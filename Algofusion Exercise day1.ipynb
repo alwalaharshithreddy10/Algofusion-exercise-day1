{
 "cells": [
  {
   "cell_type": "code",
   "execution_count": 5,
   "id": "7270df72",
   "metadata": {},
   "outputs": [
    {
     "name": "stdout",
     "output_type": "stream",
     "text": [
      "Enter your surname: alwala\n",
      "Enter your given name: harshith\n"
     ]
    }
   ],
   "source": [
    "surname = input(\"Enter your surname: \")\n",
    "name = input(\"Enter your given name: \")"
   ]
  },
  {
   "cell_type": "code",
   "execution_count": 6,
   "id": "4a0b7b47",
   "metadata": {},
   "outputs": [
    {
     "name": "stdout",
     "output_type": "stream",
     "text": [
      "Harshith Alwala\n"
     ]
    }
   ],
   "source": [
    "full_name = name.capitalize() + \" \" + surname.capitalize()\n",
    "print(full_name)\n"
   ]
  },
  {
   "cell_type": "code",
   "execution_count": 7,
   "id": "b576cae2",
   "metadata": {},
   "outputs": [
    {
     "name": "stdout",
     "output_type": "stream",
     "text": [
      "A. Harshith\n"
     ]
    }
   ],
   "source": [
    "short_name = surname[0].upper() + \". \" + name.capitalize()\n",
    "print(short_name)"
   ]
  },
  {
   "cell_type": "code",
   "execution_count": 8,
   "id": "878b3cff",
   "metadata": {},
   "outputs": [
    {
     "name": "stdout",
     "output_type": "stream",
     "text": [
      "Harshith\n"
     ]
    }
   ],
   "source": [
    "limited_given_name = name[:15]\n",
    "print(limited_given_name.capitalize())"
   ]
  },
  {
   "cell_type": "code",
   "execution_count": 9,
   "id": "76bf8465",
   "metadata": {},
   "outputs": [
    {
     "name": "stdout",
     "output_type": "stream",
     "text": [
      "Wildfires continue to spread across the western region devastating vast areas and leading to mass evacuations Authorities are struggling to contain the flames as strong winds and dry conditions persist Thousands of residents have been displaced and homes businesses and natural habitats have been destroyed Firefighters and emergency response teams are working around the clock to battle the infernos The situation is critical and authorities are urging people to remain vigilant and heed evacuation orders to ensure their safety The scale of these wildfires poses significant challenges and additional resources and support are being mobilized to combat the ongoing crisis\n"
     ]
    }
   ],
   "source": [
    "import string\n",
    "\n",
    "news_paragraph = \"Wildfires continue to spread across the western region, devastating vast areas and leading to mass evacuations. Authorities are struggling to contain the flames as strong winds and dry conditions persist. Thousands of residents have been displaced, and homes, businesses, and natural habitats have been destroyed. Firefighters and emergency response teams are working around the clock to battle the infernos. The situation is critical, and authorities are urging people to remain vigilant and heed evacuation orders to ensure their safety. The scale of these wildfires poses significant challenges, and additional resources and support are being mobilized to combat the ongoing crisis.\"\n",
    "# Remove punctuation marks\n",
    "str1 = news_paragraph.translate(str.maketrans('', '', string.punctuation))\n",
    "print(str1)\n"
   ]
  },
  {
   "cell_type": "code",
   "execution_count": 10,
   "id": "52f8a643",
   "metadata": {},
   "outputs": [
    {
     "name": "stdout",
     "output_type": "stream",
     "text": [
      "['Wildfires', 'continue', 'to', 'spread', 'across', 'the', 'western', 'region', 'devastating', 'vast', 'areas', 'and', 'leading', 'to', 'mass', 'evacuations', 'Authorities', 'are', 'struggling', 'to', 'contain', 'the', 'flames', 'as', 'strong', 'winds', 'and', 'dry', 'conditions', 'persist', 'Thousands', 'of', 'residents', 'have', 'been', 'displaced', 'and', 'homes', 'businesses', 'and', 'natural', 'habitats', 'have', 'been', 'destroyed', 'Firefighters', 'and', 'emergency', 'response', 'teams', 'are', 'working', 'around', 'the', 'clock', 'to', 'battle', 'the', 'infernos', 'The', 'situation', 'is', 'critical', 'and', 'authorities', 'are', 'urging', 'people', 'to', 'remain', 'vigilant', 'and', 'heed', 'evacuation', 'orders', 'to', 'ensure', 'their', 'safety', 'The', 'scale', 'of', 'these', 'wildfires', 'poses', 'significant', 'challenges', 'and', 'additional', 'resources', 'and', 'support', 'are', 'being', 'mobilized', 'to', 'combat', 'the', 'ongoing', 'crisis']\n"
     ]
    }
   ],
   "source": [
    "L1 = str1.split()\n",
    "print(L1)\n"
   ]
  },
  {
   "cell_type": "code",
   "execution_count": 11,
   "id": "0fb26fae",
   "metadata": {},
   "outputs": [
    {
     "name": "stdout",
     "output_type": "stream",
     "text": [
      "{'Wildfires': 1, 'continue': 1, 'to': 7, 'spread': 1, 'across': 1, 'the': 5, 'western': 1, 'region': 1, 'devastating': 1, 'vast': 1, 'areas': 1, 'and': 9, 'leading': 1, 'mass': 1, 'evacuations': 1, 'Authorities': 1, 'are': 4, 'struggling': 1, 'contain': 1, 'flames': 1, 'as': 1, 'strong': 1, 'winds': 1, 'dry': 1, 'conditions': 1, 'persist': 1, 'Thousands': 1, 'of': 2, 'residents': 1, 'have': 2, 'been': 2, 'displaced': 1, 'homes': 1, 'businesses': 1, 'natural': 1, 'habitats': 1, 'destroyed': 1, 'Firefighters': 1, 'emergency': 1, 'response': 1, 'teams': 1, 'working': 1, 'around': 1, 'clock': 1, 'battle': 1, 'infernos': 1, 'The': 2, 'situation': 1, 'is': 1, 'critical': 1, 'authorities': 1, 'urging': 1, 'people': 1, 'remain': 1, 'vigilant': 1, 'heed': 1, 'evacuation': 1, 'orders': 1, 'ensure': 1, 'their': 1, 'safety': 1, 'scale': 1, 'these': 1, 'wildfires': 1, 'poses': 1, 'significant': 1, 'challenges': 1, 'additional': 1, 'resources': 1, 'support': 1, 'being': 1, 'mobilized': 1, 'combat': 1, 'ongoing': 1, 'crisis': 1}\n"
     ]
    }
   ],
   "source": [
    "d1 = {}\n",
    "for word in L1:\n",
    "    if word in d1:\n",
    "        d1[word] += 1\n",
    "    else:\n",
    "        d1[word] = 1\n",
    "\n",
    "print(d1)\n"
   ]
  },
  {
   "cell_type": "code",
   "execution_count": 12,
   "id": "47b3ace0",
   "metadata": {},
   "outputs": [
    {
     "name": "stdout",
     "output_type": "stream",
     "text": [
      "         word  No of occurrences\n",
      "0   Wildfires                  1\n",
      "1    continue                  1\n",
      "2          to                  7\n",
      "3      spread                  1\n",
      "4      across                  1\n",
      "..        ...                ...\n",
      "70      being                  1\n",
      "71  mobilized                  1\n",
      "72     combat                  1\n",
      "73    ongoing                  1\n",
      "74     crisis                  1\n",
      "\n",
      "[75 rows x 2 columns]\n"
     ]
    }
   ],
   "source": [
    "import pandas as pd\n",
    "\n",
    "# Create a data frame from the dictionary\n",
    "df = pd.DataFrame(list(d1.items()), columns=['word', 'No of occurrences'])\n",
    "print(df)\n"
   ]
  },
  {
   "cell_type": "code",
   "execution_count": null,
   "id": "3dcddff3",
   "metadata": {},
   "outputs": [],
   "source": []
  }
 ],
 "metadata": {
  "kernelspec": {
   "display_name": "Python 3 (ipykernel)",
   "language": "python",
   "name": "python3"
  },
  "language_info": {
   "codemirror_mode": {
    "name": "ipython",
    "version": 3
   },
   "file_extension": ".py",
   "mimetype": "text/x-python",
   "name": "python",
   "nbconvert_exporter": "python",
   "pygments_lexer": "ipython3",
   "version": "3.10.9"
  }
 },
 "nbformat": 4,
 "nbformat_minor": 5
}
